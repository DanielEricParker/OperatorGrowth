{
 "cells": [
  {
   "cell_type": "code",
   "execution_count": 1,
   "metadata": {},
   "outputs": [
    {
     "data": {
      "text/plain": [
       "9-element Vector{Tuple{Float64, Float64, Float64}}:\n",
       " (0.8941176470588236, 0.10196078431372549, 0.10980392156862745)\n",
       " (0.21568627450980393, 0.49411764705882355, 0.7215686274509804)\n",
       " (0.30196078431372547, 0.6862745098039216, 0.2901960784313726)\n",
       " (0.596078431372549, 0.3058823529411765, 0.6392156862745098)\n",
       " (1.0, 0.4980392156862745, 0.0)\n",
       " (1.0, 1.0, 0.2)\n",
       " (0.6509803921568628, 0.33725490196078434, 0.1568627450980392)\n",
       " (0.9686274509803922, 0.5058823529411764, 0.7490196078431373)\n",
       " (0.6, 0.6, 0.6)"
      ]
     },
     "execution_count": 1,
     "metadata": {},
     "output_type": "execute_result"
    }
   ],
   "source": [
    "using Revise\n",
    "using OperatorGrowth\n",
    "\n",
    "using LinearAlgebra\n",
    "using SparseArrays\n",
    "using KrylovKit\n",
    "using Statistics\n",
    "using PyPlot\n",
    "using BenchmarkTools\n",
    "\n",
    "inspect(obj) = fieldnames(typeof(obj))\n",
    "\n",
    "\n",
    "using PyPlot\n",
    "using PyCall\n",
    "@pyimport seaborn as sns\n",
    "pal = sns.color_palette(\"Set1\");"
   ]
  },
  {
   "cell_type": "code",
   "execution_count": 3,
   "metadata": {},
   "outputs": [
    {
     "name": "stdout",
     "output_type": "stream",
     "text": [
      "(n, OperatorGrowth.numYsToδϵ(n)) = (0, (false, false))\n",
      "(n, OperatorGrowth.numYsToδϵ(n)) = (1, (true, true))\n",
      "(n, OperatorGrowth.numYsToδϵ(n)) = (2, (false, true))\n",
      "(n, OperatorGrowth.numYsToδϵ(n)) = (3, (true, false))\n",
      "(n, OperatorGrowth.numYsToδϵ(n)) = (4, (false, false))\n",
      "(n, OperatorGrowth.numYsToδϵ(n)) = (5, (true, true))\n",
      "(n, OperatorGrowth.numYsToδϵ(n)) = (6, (false, true))\n",
      "(n, OperatorGrowth.numYsToδϵ(n)) = (7, (true, false))\n",
      "(n, OperatorGrowth.numYsToδϵ(n)) = (8, (false, false))\n"
     ]
    }
   ],
   "source": [
    "for n in 0:8\n",
    "    @show n, OperatorGrowth.numYsToδϵ(n)\n",
    "end"
   ]
  },
  {
   "cell_type": "code",
   "execution_count": 3,
   "metadata": {},
   "outputs": [
    {
     "data": {
      "text/plain": [
       "I"
      ]
     },
     "execution_count": 3,
     "metadata": {},
     "output_type": "execute_result"
    }
   ],
   "source": [
    "zero(PS)"
   ]
  },
  {
   "cell_type": "code",
   "execution_count": 4,
   "metadata": {},
   "outputs": [
    {
     "data": {
      "text/plain": [
       "(0, 0)"
      ]
     },
     "execution_count": 4,
     "metadata": {},
     "output_type": "execute_result"
    }
   ],
   "source": [
    "zero(PS).V|>edges"
   ]
  },
  {
   "cell_type": "code",
   "execution_count": 5,
   "metadata": {},
   "outputs": [
    {
     "data": {
      "text/plain": [
       "1.0 + 0.0im*ZZIX"
      ]
     },
     "execution_count": 5,
     "metadata": {},
     "output_type": "execute_result"
    }
   ],
   "source": [
    "PS(\"XXIZ\")"
   ]
  },
  {
   "cell_type": "code",
   "execution_count": 6,
   "metadata": {},
   "outputs": [
    {
     "data": {
      "text/plain": [
       "0.0 - 1.0im*YYYX"
      ]
     },
     "execution_count": 6,
     "metadata": {},
     "output_type": "execute_result"
    }
   ],
   "source": [
    "PSInternal(false,true,Vertex(7,15))"
   ]
  },
  {
   "cell_type": "code",
   "execution_count": 7,
   "metadata": {},
   "outputs": [
    {
     "data": {
      "text/plain": [
       "1 + 0im*XYXYXZZZIX"
      ]
     },
     "execution_count": 7,
     "metadata": {},
     "output_type": "execute_result"
    }
   ],
   "source": [
    "V1 = Vertex(3,7)\n",
    "V2 = Vertex(234,543)"
   ]
  },
  {
   "cell_type": "code",
   "execution_count": 11,
   "metadata": {},
   "outputs": [
    {
     "data": {
      "text/plain": [
       "1-element Vector{PSInternal}:\n",
       " -0.0 + 1.0im*ZIIYXZZZIX"
      ]
     },
     "execution_count": 11,
     "metadata": {},
     "output_type": "execute_result"
    }
   ],
   "source": [
    "commutator(V1,V2)"
   ]
  },
  {
   "cell_type": "code",
   "execution_count": 53,
   "metadata": {},
   "outputs": [
    {
     "data": {
      "text/plain": [
       "OperatorMap(Dict{Vertex, ComplexF64}(-1 + 0im*X => 1.0 + 0.0im))"
      ]
     },
     "execution_count": 53,
     "metadata": {},
     "output_type": "execute_result"
    }
   ],
   "source": [
    "OperatorMap(Dict(\"X\"=>1.0))"
   ]
  },
  {
   "cell_type": "code",
   "execution_count": 55,
   "metadata": {},
   "outputs": [
    {
     "data": {
      "text/plain": [
       "1.0 + 0.0im*Z"
      ]
     },
     "execution_count": 55,
     "metadata": {},
     "output_type": "execute_result"
    }
   ],
   "source": [
    "O1 = PS(\"XX\")\n",
    "O2 = PS(\"Z\")"
   ]
  },
  {
   "cell_type": "code",
   "execution_count": 96,
   "metadata": {},
   "outputs": [
    {
     "name": "stdout",
     "output_type": "stream",
     "text": [
      "  8.133 ns (0 allocations: 0 bytes)\n"
     ]
    }
   ],
   "source": [
    "ps = Array{PS,1}()\n",
    "@btime commutator!($ps, $O1.V, $O2.V,0,1.0);"
   ]
  },
  {
   "cell_type": "code",
   "execution_count": 79,
   "metadata": {},
   "outputs": [
    {
     "name": "stdout",
     "output_type": "stream",
     "text": [
      "start = trailing_zeros(V.v | V.w) = 0\n"
     ]
    },
    {
     "data": {
      "text/plain": [
       "0 - 1im*XY"
      ]
     },
     "execution_count": 79,
     "metadata": {},
     "output_type": "execute_result"
    }
   ],
   "source": [
    "rightAlign(PS(\"XY\").V)"
   ]
  },
  {
   "cell_type": "code",
   "execution_count": 99,
   "metadata": {},
   "outputs": [
    {
     "data": {
      "text/plain": [
       "OperatorMap(Dict{Vertex, ComplexF64}())"
      ]
     },
     "execution_count": 99,
     "metadata": {},
     "output_type": "execute_result"
    }
   ],
   "source": [
    "O0 = OperatorMap(Dict())"
   ]
  },
  {
   "cell_type": "code",
   "execution_count": 115,
   "metadata": {},
   "outputs": [
    {
     "name": "stdout",
     "output_type": "stream",
     "text": [
      "  126.496 ns (0 allocations: 0 bytes)\n"
     ]
    },
    {
     "data": {
      "text/plain": [
       "OperatorMap(Dict{Vertex, ComplexF64}(0 - 1im*XY => 3.764201e7 + 0.0im, 0 - 1im*YX => 9.0945024e7 + 0.0im))"
      ]
     },
     "execution_count": 115,
     "metadata": {},
     "output_type": "execute_result"
    }
   ],
   "source": [
    "@btime convolve!(O0,O1,O2)"
   ]
  },
  {
   "cell_type": "code",
   "execution_count": 124,
   "metadata": {},
   "outputs": [
    {
     "data": {
      "text/plain": [
       "Operator(PS[])"
      ]
     },
     "execution_count": 124,
     "metadata": {},
     "output_type": "execute_result"
    }
   ],
   "source": [
    "O4 = Operator(PS[])"
   ]
  },
  {
   "cell_type": "code",
   "execution_count": 125,
   "metadata": {},
   "outputs": [
    {
     "name": "stdout",
     "output_type": "stream",
     "text": [
      "  46.165 ns (1 allocation: 16 bytes)\n"
     ]
    },
    {
     "data": {
      "text/plain": [
       "Operator(PS[0.0 - 1.0im*XY, 0.0 - 1.0im*YX, 0.0 - 1.0im*XY, 0.0 - 1.0im*YX, 0.0 - 1.0im*XY, 0.0 - 1.0im*YX, 0.0 - 1.0im*XY, 0.0 - 1.0im*YX, 0.0 - 1.0im*XY, 0.0 - 1.0im*YX  …  0.0 - 1.0im*XY, 0.0 - 1.0im*YX, 0.0 - 1.0im*XY, 0.0 - 1.0im*YX, 0.0 - 1.0im*XY, 0.0 - 1.0im*YX, 0.0 - 1.0im*XY, 0.0 - 1.0im*YX, 0.0 - 1.0im*XY, 0.0 - 1.0im*YX])"
      ]
     },
     "execution_count": 125,
     "metadata": {},
     "output_type": "execute_result"
    }
   ],
   "source": [
    "@btime convolve!(O4,$O1,$O2)"
   ]
  },
  {
   "cell_type": "code",
   "execution_count": 146,
   "metadata": {},
   "outputs": [
    {
     "data": {
      "text/plain": [
       "OperatorMap(Dict{Vertex, ComplexF64}())"
      ]
     },
     "execution_count": 146,
     "metadata": {},
     "output_type": "execute_result"
    }
   ],
   "source": [
    "O0 = OperatorMap(Dict())"
   ]
  },
  {
   "cell_type": "code",
   "execution_count": 149,
   "metadata": {},
   "outputs": [
    {
     "name": "stdout",
     "output_type": "stream",
     "text": [
      "  33.904 ns (0 allocations: 0 bytes)\n"
     ]
    },
    {
     "data": {
      "text/plain": [
       "OperatorMap(Dict{Vertex, ComplexF64}(0 - 1im*XY => 4.1722008e7 + 0.0im, 0 - 1im*YX => 4.1722008e7 + 0.0im))"
      ]
     },
     "execution_count": 149,
     "metadata": {},
     "output_type": "execute_result"
    }
   ],
   "source": [
    "@btime convolve!($O0,$O1,$O2)"
   ]
  },
  {
   "cell_type": "code",
   "execution_count": 148,
   "metadata": {},
   "outputs": [
    {
     "name": "stdout",
     "output_type": "stream",
     "text": [
      "  1.208 ns (0 allocations: 0 bytes)\n"
     ]
    },
    {
     "data": {
      "text/plain": [
       "0xa896ef5faf29ebbf"
      ]
     },
     "execution_count": 148,
     "metadata": {},
     "output_type": "execute_result"
    }
   ],
   "source": [
    "@btime hash(Vertex(43,5435))"
   ]
  },
  {
   "cell_type": "code",
   "execution_count": 138,
   "metadata": {},
   "outputs": [
    {
     "data": {
      "text/html": [
       "hash(x::<b>Int64</b>, h::<b>UInt64</b>) in Base at <a href=\"https://github.com/JuliaLang/julia/tree/0434deb161e17103eabdd7d82b17a1cd6b410572/base/hashing.jl#L75\" target=\"_blank\">hashing.jl:75</a>"
      ],
      "text/plain": [
       "hash(x::Int64, h::UInt64) in Base at hashing.jl:75"
      ]
     },
     "execution_count": 138,
     "metadata": {},
     "output_type": "execute_result"
    }
   ],
   "source": [
    "@which hash(4,zero(UInt))"
   ]
  },
  {
   "cell_type": "code",
   "execution_count": 136,
   "metadata": {},
   "outputs": [
    {
     "data": {
      "text/plain": [
       "0x1ca3d4e0db27b3b1"
      ]
     },
     "execution_count": 136,
     "metadata": {},
     "output_type": "execute_result"
    }
   ],
   "source": [
    "hash(hash(43) ^ 5435)"
   ]
  },
  {
   "cell_type": "markdown",
   "metadata": {},
   "source": [
    "# Check Correctness"
   ]
  },
  {
   "cell_type": "code",
   "execution_count": 41,
   "metadata": {},
   "outputs": [
    {
     "data": {
      "text/plain": [
       "OperatorMap(Dict{Vertex, ComplexF64}(-1 + 0im*Z => 1.0 + 0.0im, -1 + 0im*XX => 1.05 + 0.0im))"
      ]
     },
     "execution_count": 41,
     "metadata": {},
     "output_type": "execute_result"
    }
   ],
   "source": [
    "H = OperatorMap(Dict(\"XX\"=>1,\"Z\"=>-1.05,\"X\"=>0.5))\n",
    "L = Liouvillian(H)\n",
    "O0 = OperatorMap(Dict(\"XX\"=>1.05,\"Z\"=>1))"
   ]
  },
  {
   "cell_type": "code",
   "execution_count": 53,
   "metadata": {},
   "outputs": [
    {
     "name": "stdout",
     "output_type": "stream",
     "text": [
      "  141.932 ns (0 allocations: 0 bytes)\n"
     ]
    },
    {
     "data": {
      "text/plain": [
       "OperatorMap(Dict{Vertex, ComplexF64}(0 - 1im*Y => 849.0 + 0.0im, 0 - 1im*XY => 3570.0449999999605 + 0.0im, 0 - 1im*YX => 3570.0449999999605 + 0.0im))"
      ]
     },
     "execution_count": 53,
     "metadata": {},
     "output_type": "execute_result"
    }
   ],
   "source": [
    "O1 = OperatorMap()\n",
    "@btime mul!(O2,$L,$O0) setup=(O2=OperatorMap())"
   ]
  },
  {
   "cell_type": "code",
   "execution_count": 270,
   "metadata": {},
   "outputs": [
    {
     "data": {
      "text/plain": [
       "OperatorMap(Dict{Vertex, ComplexF64}(-1 + 0im*Z => 1.0 + 0.0im))"
      ]
     },
     "execution_count": 270,
     "metadata": {},
     "output_type": "execute_result"
    }
   ],
   "source": [
    "using KrylovKit\n",
    "H = OperatorMap(Dict(\"XX\"=>1,\"Z\"=>-1.05,\"X\"=>0.5))\n",
    "L = Liouvillian(H)\n",
    "# O0 = OperatorMap(Dict(\"XX\"=>1.05,\"Z\"=>1))\n",
    "O0 = OperatorMap(Dict(\"Z\"=>1))"
   ]
  },
  {
   "cell_type": "code",
   "execution_count": 271,
   "metadata": {},
   "outputs": [],
   "source": [
    "iter = LanczosIterator(L,O0);"
   ]
  },
  {
   "cell_type": "code",
   "execution_count": 272,
   "metadata": {},
   "outputs": [
    {
     "data": {
      "text/plain": [
       "0"
      ]
     },
     "execution_count": 272,
     "metadata": {},
     "output_type": "execute_result"
    }
   ],
   "source": [
    "count(x->abs(x)<1e-16,values(F.V[end].terms))"
   ]
  },
  {
   "cell_type": "code",
   "execution_count": 273,
   "metadata": {},
   "outputs": [
    {
     "name": "stdout",
     "output_type": "stream",
     "text": [
      "  7.509405 seconds (958 allocations: 1.543 GiB, 2.40% gc time)\n"
     ]
    },
    {
     "data": {
      "text/plain": [
       "31-element Vector{Float64}:\n",
       "  4.158800819567715\n",
       "  4.314016265420326\n",
       "  4.5036502624768655\n",
       "  4.790682787293234\n",
       "  5.154864668411114\n",
       "  5.587100849566082\n",
       "  6.064827806542057\n",
       "  6.6829229829019985\n",
       "  7.41393735361118\n",
       "  7.906782344770846\n",
       "  8.092216697152784\n",
       "  8.408788087833353\n",
       "  8.849586878134259\n",
       "  ⋮\n",
       " 11.618371901676662\n",
       " 11.935593617995066\n",
       " 12.326810931042187\n",
       " 12.730010984806992\n",
       " 13.090829032745516\n",
       " 13.439797732741384\n",
       " 13.86504616517856\n",
       " 14.242000611563505\n",
       " 14.589243953657707\n",
       " 14.881443744538407\n",
       " 15.186869908614316\n",
       " 15.570582257651687"
      ]
     },
     "execution_count": 273,
     "metadata": {},
     "output_type": "execute_result"
    }
   ],
   "source": [
    "#run Lanczos\n",
    "N=30\n",
    "n=0\n",
    "F = initialize(iterator)\n",
    "@time while n < N\n",
    "    expand!(iterator, F)\n",
    "    trim!(F.r,1e-16)\n",
    "    n+=1\n",
    "end\n",
    "bs = F.βs"
   ]
  },
  {
   "cell_type": "code",
   "execution_count": 258,
   "metadata": {},
   "outputs": [],
   "source": [
    "Xiangyu_values = vec([4.15880082  4.31401627  4.50365026  4.79068279  5.15486467  5.58710085 6.06482781  6.68292298  7.41393735  7.90678234  8.0922167   8.40878809 8.84958688  9.2086087   9.59364746 10.07842675 10.53190668 10.97745372 11.33212599 11.6183719]);"
   ]
  },
  {
   "cell_type": "code",
   "execution_count": 263,
   "metadata": {},
   "outputs": [
    {
     "data": {
      "text/plain": [
       "31-element Vector{Float64}:\n",
       "  4.158800819567715\n",
       "  4.314016265420326\n",
       "  4.5036502624768655\n",
       "  4.790682787293234\n",
       "  5.154864668411114\n",
       "  5.587100849566082\n",
       "  6.064827806542057\n",
       "  6.6829229829019985\n",
       "  7.41393735361118\n",
       "  7.906782344770846\n",
       "  8.092216697152784\n",
       "  8.408788087833353\n",
       "  8.849586878134259\n",
       "  ⋮\n",
       " 11.618371901676662\n",
       " 11.935593617995066\n",
       " 12.326810931042187\n",
       " 12.730010984806992\n",
       " 13.090829032745516\n",
       " 13.439797732741384\n",
       " 13.86504616517856\n",
       " 14.242000611563505\n",
       " 14.589243953657707\n",
       " 14.881443744538407\n",
       " 15.186869908614316\n",
       " 15.570582257651687"
      ]
     },
     "execution_count": 263,
     "metadata": {},
     "output_type": "execute_result"
    }
   ],
   "source": [
    "bs"
   ]
  },
  {
   "cell_type": "code",
   "execution_count": 265,
   "metadata": {},
   "outputs": [
    {
     "name": "stdout",
     "output_type": "stream",
     "text": [
      "4.3228443047382825e-10\n",
      "4.5796735292924495e-9\n",
      "2.4768658235529983e-9\n",
      "2.7067663666002773e-9\n",
      "1.588886355818886e-9\n",
      "4.339177905876568e-10\n",
      "3.4579423768832385e-9\n",
      "2.901998641391401e-9\n",
      "3.611179799634101e-9\n",
      "4.770845940527124e-9\n",
      "2.8472157964642975e-9\n",
      "2.166647306012237e-9\n",
      "1.8657413392020317e-9\n",
      "1.6911982925194025e-9\n",
      "2.740055293770638e-9\n",
      "2.6614319637019435e-9\n",
      "4.005597631362434e-9\n",
      "1.6487611276261305e-10\n",
      "1.1827285817389566e-9\n",
      "1.6766623645025902e-9\n"
     ]
    },
    {
     "ename": "LoadError",
     "evalue": "BoundsError: attempt to access 20-element Vector{Float64} at index [21]",
     "output_type": "error",
     "traceback": [
      "BoundsError: attempt to access 20-element Vector{Float64} at index [21]",
      "",
      "Stacktrace:",
      " [1] getindex(A::Vector{Float64}, i1::Int64)",
      "   @ Base ./array.jl:924",
      " [2] top-level scope",
      "   @ ./In[265]:2",
      " [3] eval",
      "   @ ./boot.jl:368 [inlined]",
      " [4] include_string(mapexpr::typeof(REPL.softscope), mod::Module, code::String, filename::String)",
      "   @ Base ./loading.jl:1428"
     ]
    }
   ],
   "source": [
    "for n in eachindex(bs)\n",
    "    println(abs(bs[n]-Xiangyu_values[n]))\n",
    "end"
   ]
  },
  {
   "cell_type": "code",
   "execution_count": 274,
   "metadata": {},
   "outputs": [
    {
     "data": {
      "image/png": "[encoded data removed]",
      "text/plain": [
       "Figure(PyObject <Figure size 640x480 with 1 Axes>)"
      ]
     },
     "metadata": {},
     "output_type": "display_data"
    },
    {
     "data": {
      "text/plain": [
       "1-element Vector{PyCall.PyObject}:\n",
       " PyObject <matplotlib.lines.Line2D object at 0x2ad3ba1f0>"
      ]
     },
     "execution_count": 274,
     "metadata": {},
     "output_type": "execute_result"
    }
   ],
   "source": [
    "plot(bs,\"-o\",mec=\"k\",mew=1)"
   ]
  },
  {
   "cell_type": "markdown",
   "metadata": {},
   "source": [
    "# Pauli Bases"
   ]
  },
  {
   "cell_type": "code",
   "execution_count": 330,
   "metadata": {},
   "outputs": [
    {
     "data": {
      "text/plain": [
       "1.0 + 0.0im*Y"
      ]
     },
     "execution_count": 330,
     "metadata": {},
     "output_type": "execute_result"
    }
   ],
   "source": [
    "BPS(true,false,Vertex(1,1))"
   ]
  },
  {
   "cell_type": "code",
   "execution_count": 335,
   "metadata": {},
   "outputs": [
    {
     "data": {
      "text/plain": [
       "(1.0 + 0.0im, 1.0 + 0.0im*XXIIIX)"
      ]
     },
     "execution_count": 335,
     "metadata": {},
     "output_type": "execute_result"
    }
   ],
   "source": [
    "split(PS(\"XXIIIX\"))"
   ]
  },
  {
   "cell_type": "code",
   "execution_count": 356,
   "metadata": {},
   "outputs": [
    {
     "name": "stdout",
     "output_type": "stream",
     "text": [
      "(numYs, Vertex(v, w)) = (1, 0 - 1im*Y)\n"
     ]
    },
    {
     "data": {
      "text/plain": [
       "(-1.0 - 0.0im, -1.0 + 0.0im*Y)"
      ]
     },
     "execution_count": 356,
     "metadata": {},
     "output_type": "execute_result"
    }
   ],
   "source": [
    "z,BP = split(PS(\"Y\"))"
   ]
  },
  {
   "cell_type": "code",
   "execution_count": 483,
   "metadata": {},
   "outputs": [],
   "source": [
    "for _ in 1:1000\n",
    "    P = random_pauli(rand(1:10))\n",
    "    z, BP = split(P)\n",
    "    @assert z*PS(BP) == P\n",
    "end"
   ]
  },
  {
   "cell_type": "code",
   "execution_count": 494,
   "metadata": {},
   "outputs": [
    {
     "data": {
      "text/plain": [
       "1.0 - 0.0im*YY"
      ]
     },
     "execution_count": 494,
     "metadata": {},
     "output_type": "execute_result"
    }
   ],
   "source": [
    "split(PS(\"YY\"))[2]"
   ]
  },
  {
   "cell_type": "code",
   "execution_count": 507,
   "metadata": {},
   "outputs": [
    {
     "data": {
      "text/plain": [
       "OperatorGrowth.Basis{BPS}(\"Pauli Basis 3\", Dict{BPS, Int64}(-0.0 - 1.0im*YZY => 47, 1.0 + 0.0im*XZ => 8, 1.0 + 0.0im*YZX => 23, 1.0 + 0.0im*XIX => 14, 0.0 + 1.0im*YYZ => 45, I => 1, 1.0 + 0.0im*ZX => 6, 0.0 + 1.0im*XYX => 21, 1.0 + 0.0im*YXX => 19, 1.0 + 0.0im*ZZ => 10…), Dict{Int64, BPS}(5 => 1.0 + 0.0im*XX, 16 => 1.0 + 0.0im*ZIX, 20 => 1.0 + 0.0im*XZX, 35 => -0.0 - 1.0im*YIY, 30 => 1.0 + 0.0im*ZIZ, 19 => 1.0 + 0.0im*YXX, 32 => 1.0 + 0.0im*ZXZ, 49 => 1.0 + 0.0im*YYY, 6 => 1.0 + 0.0im*ZX, 45 => 0.0 + 1.0im*YYZ…), [4, 13, 49])"
      ]
     },
     "execution_count": 507,
     "metadata": {},
     "output_type": "execute_result"
    }
   ],
   "source": [
    "pb = pauli_basis(3)"
   ]
  },
  {
   "cell_type": "code",
   "execution_count": 2,
   "metadata": {},
   "outputs": [
    {
     "data": {
      "text/plain": [
       "OperatorMap(Dict{Vertex, ComplexF64}(-1 + 0im*Z => 1.0 + 0.0im, -1 + 0im*XX => 1.05 + 0.0im))"
      ]
     },
     "execution_count": 2,
     "metadata": {},
     "output_type": "execute_result"
    }
   ],
   "source": [
    "H = OperatorMap(Dict(\"XX\"=>1,\"Z\"=>-1.05,\"X\"=>0.5))\n",
    "L = Liouvillian(H)\n",
    "O0 = OperatorMap(Dict(\"XX\"=>1.05,\"Z\"=>1))"
   ]
  },
  {
   "cell_type": "code",
   "execution_count": 102,
   "metadata": {},
   "outputs": [
    {
     "data": {
      "text/plain": [
       "3072"
      ]
     },
     "execution_count": 102,
     "metadata": {},
     "output_type": "execute_result"
    }
   ],
   "source": [
    "pb = pauli_basis(6);\n",
    "length(pb)"
   ]
  },
  {
   "cell_type": "code",
   "execution_count": 103,
   "metadata": {},
   "outputs": [
    {
     "data": {
      "text/plain": [
       "3072×3072 SparseMatrixCSC{ComplexF64, Int64} with 27648 stored entries:\n",
       "⢿⣷⣶⢦⣤⢀⠀⡀⠀⠀⠀⠀⠀⠀⠀⠀⠀⠀⠀⠀⠀⠀⠀⠀⠀⠀⠀⠀⠀⠀⠀⠀⠀⠀⠀⠀⠀⠀⠀⠀\n",
       "⠸⣟⢻⣶⣿⡲⢤⣁⠁⠐⠰⠠⠄⡄⣀⠀⠀⠀⠀⠀⠀⠀⠀⠀⠀⠀⠀⠀⠀⠀⠀⠀⠀⠀⠀⠀⠀⠀⠀⠀\n",
       "⠀⢛⢻⡻⠿⣧⣤⣨⡙⠲⠄⠀⠀⠀⠀⣬⠈⠃⠂⠦⠀⣄⠀⠀⠀⠀⠀⠀⠀⠀⠀⠀⠀⠀⠀⠀⠀⠀⠀⠀\n",
       "⠀⠠⠄⢳⡀⣻⣿⣿⣘⡦⡀⠀⠀⠀⠀⠈⠳⣤⡀⠀⠀⠀⠀⠈⠁⠀⠲⠀⢠⡀⠀⡀⠀⠀⠀⠀⠀⠀⠀⠀\n",
       "⠀⠀⢁⠀⢳⡈⠲⡼⣿⣿⡆⠀⠀⠀⠀⠀⠀⠈⠻⣄⠀⠀⠀⠀⠀⠀⠀⠀⠀⠀⠀⠉⠀⠘⠀⠀⠄⠀⢀⠀\n",
       "⠀⠀⠐⡂⠀⠁⠀⠈⠈⠉⣿⣿⣾⢢⡀⠓⣄⠀⠀⠈⠙⠒⢦⣀⠀⠀⠀⠀⠀⠀⠀⠀⠀⠀⠀⠀⠀⠀⠈⠀\n",
       "⠀⠀⠀⠥⠀⠀⠀⠀⠀⠀⠺⣛⢻⣶⣾⡂⠀⠳⢄⠀⠀⠀⠀⠈⠙⠲⠤⣄⠀⠀⠀⠀⠀⠀⠀⠀⠀⠀⠀⠀\n",
       "⠀⠀⠀⠘⡀⣤⡀⠀⠀⠀⢤⠈⠺⠻⠿⣧⣤⡠⡈⠳⠀⠀⠀⠀⠀⠀⠀⠈⠙⠲⢤⣀⡀⠀⠀⠀⠀⠀⠀⠀\n",
       "⠀⠀⠀⠀⠦⠀⠙⣦⡀⠀⠀⠙⢤⡀⠀⡻⣿⣿⣉⣦⠀⠀⠀⠀⠀⠀⠀⠀⠀⠀⠀⠀⠉⠲⢤⣀⠀⠀⠀⠀\n",
       "⠀⠀⠀⠀⠨⡄⠀⠈⠛⢦⡀⠀⠀⠑⢦⡈⠣⣼⣿⣿⠀⠀⠀⠀⠀⠀⠀⠀⠀⠀⠀⠀⠀⠀⠀⠈⠉⠓⢦⣀\n",
       "⠀⠀⠀⠀⠀⢤⠀⠀⠀⠀⢳⠀⠀⠀⠀⠀⠀⠀⠀⠀⣿⣿⡞⢦⡈⠳⣄⠀⠀⠈⠱⣄⠀⠀⠀⠀⠀⠀⠀⠀\n",
       "⠀⠀⠀⠀⠀⠀⡀⠀⠀⠀⠈⢳⡀⠀⠀⠀⠀⠀⠀⠀⠺⣍⣻⣾⣯⠀⠈⠳⢄⠀⠀⠈⠳⣄⠀⠀⠀⠀⠀⠀\n",
       "⠀⠀⠀⠀⠀⠀⠁⠀⠀⠀⠀⠀⢳⡀⠀⠀⠀⠀⠀⠀⢦⡈⠋⠛⠻⣦⣦⣦⡈⠓⠀⠀⠀⠈⠳⣄⠀⠀⠀⠀\n",
       "⠀⠀⠀⠀⠀⠀⠘⠂⠀⠀⠀⠀⠀⢧⡀⠀⠀⠀⠀⠀⠀⠙⢦⡀⠨⣿⠿⣧⣹⡢⠀⠀⠀⠀⠀⠈⠓⣄⠀⠀\n",
       "⠀⠀⠀⠀⠀⠀⠀⠲⠀⠀⠀⠀⠀⠀⢳⡀⠀⠀⠀⠀⡀⠀⠀⠑⢦⠈⠳⡺⣿⣿⣀⡀⡀⠀⢀⠀⠀⠈⠳⢄\n",
       "⠀⠀⠀⠀⠀⠀⠀⠠⡄⠀⠀⠀⠀⠀⠀⢳⠀⠀⠀⠀⠑⢦⡀⠀⠀⠀⠀⠀⠀⠸⣿⣿⡏⢦⡈⠱⣄⠀⠀⠀\n",
       "⠀⠀⠀⠀⠀⠀⠀⠀⣀⠀⠀⠀⠀⠀⠀⠈⢣⡀⠀⠀⠀⠀⠙⢦⡀⠀⠀⠀⠀⠈⠫⣍⣿⣿⣯⠀⠈⠓⣄⠀\n",
       "⠀⠀⠀⠀⠀⠀⠀⠀⠀⠀⠀⠀⠀⠀⠀⠀⠀⢳⡀⠀⠀⠀⠀⠀⠙⢦⡀⠀⠀⠐⢆⡈⠋⠛⢻⣶⣦⣦⡀⠓\n",
       "⠀⠀⠀⠀⠀⠀⠀⠀⠀⠁⠀⠀⠀⠀⠀⠀⠀⠀⢧⠀⠀⠀⠀⠀⠀⠀⠙⢤⡀⠀⠀⠙⢦⠀⠨⣿⠿⣧⣽⡢\n",
       "⠀⠀⠀⠀⠀⠀⠀⠀⠀⠐⠂⠀⠀⠀⠀⠀⠀⠀⠈⢳⠀⠀⠀⠀⠀⠀⠀⠀⠙⢆⠀⠀⠀⠙⢤⠈⠳⡻⣿⣿"
      ]
     },
     "execution_count": 103,
     "metadata": {},
     "output_type": "execute_result"
    }
   ],
   "source": [
    "G = build_graph(L,pb)"
   ]
  },
  {
   "cell_type": "code",
   "execution_count": 104,
   "metadata": {},
   "outputs": [
    {
     "data": {
      "text/plain": [
       "get_conds (generic function with 1 method)"
      ]
     },
     "execution_count": 104,
     "metadata": {},
     "output_type": "execute_result"
    }
   ],
   "source": [
    "function get_evs(basis, matrix;verbose=true)\n",
    "    evs = []\n",
    "    ranges = partitions(basis)\n",
    "    for (n,ra) in enumerate(ranges)\n",
    "        verbose && @show(n,ranges[n])\n",
    "        m = collect(matrix[ra,ra])\n",
    "        push!(evs,eigvals(m))\n",
    "    end\n",
    "    return evs\n",
    "end\n",
    "\n",
    "function get_conds(basis, matrix;verbose=true)\n",
    "    evs = []\n",
    "    ranges = partitions(basis)\n",
    "    for (n,ra) in enumerate(ranges)\n",
    "        verbose && @show(n,ranges[n])\n",
    "        m = collect(matrix[ra,ra])\n",
    "        push!(evs,cond(m))\n",
    "    end\n",
    "    return evs\n",
    "end"
   ]
  },
  {
   "cell_type": "code",
   "execution_count": 105,
   "metadata": {},
   "outputs": [],
   "source": [
    "conds0 = get_conds(pb,G;verbose=false);"
   ]
  },
  {
   "cell_type": "code",
   "execution_count": 106,
   "metadata": {},
   "outputs": [
    {
     "data": {
      "text/plain": [
       "6-element Vector{Any}:\n",
       " Inf\n",
       "  4.420765834464647e16\n",
       "  9.06721831206501e16\n",
       "  3.0031517782011846e17\n",
       "  2.3039780714164906e17\n",
       "  5.901817000232691e17"
      ]
     },
     "execution_count": 106,
     "metadata": {},
     "output_type": "execute_result"
    }
   ],
   "source": [
    "conds0"
   ]
  },
  {
   "cell_type": "code",
   "execution_count": 107,
   "metadata": {},
   "outputs": [],
   "source": [
    "evs0 = get_evs(pb,G;verbose=false);\n",
    "evs_list = [evs0];"
   ]
  },
  {
   "cell_type": "code",
   "execution_count": 108,
   "metadata": {},
   "outputs": [
    {
     "data": {
      "image/png": "[encoded data removed]",
      "text/plain": [
       "Figure(PyObject <Figure size 640x480 with 1 Axes>)"
      ]
     },
     "metadata": {},
     "output_type": "display_data"
    }
   ],
   "source": [
    "fig,axs = subplots(1,1)\n",
    "pals = sns.color_palette(\"mako\",length(evs0))\n",
    "for n in 1:1\n",
    "    ax=axs\n",
    "    for (n,ev) in enumerate(evs_list[n])\n",
    "        ax.hist(ev,lw=0.25*n,histtype=\"step\",bins=129,density=true,color=pals[n],label=n)\n",
    "    end\n",
    "    ax.legend(title=\"Level\",frameon=false)\n",
    "    # ax.set_title(names[n])\n",
    "    ax.set_xlim(-20,20)\n",
    "    ax.set_ylim(0,0.2)\n",
    "    ax.set_ylabel(\"Liouvillian DOS\")\n",
    "    ax.set_xlabel(L\"Superenergy $E_i - E_j$\")\n",
    "end"
   ]
  },
  {
   "cell_type": "code",
   "execution_count": 109,
   "metadata": {},
   "outputs": [],
   "source": [
    "evsfixed = [filter(x->abs(x)>1e-12,ev) for ev in evs0];"
   ]
  },
  {
   "cell_type": "code",
   "execution_count": 110,
   "metadata": {},
   "outputs": [
    {
     "data": {
      "image/png": "[encoded data removed]",
      "text/plain": [
       "Figure(PyObject <Figure size 640x480 with 1 Axes>)"
      ]
     },
     "metadata": {},
     "output_type": "display_data"
    },
    {
     "data": {
      "text/plain": [
       "(1.0e-6, 138.27845685319795)"
      ]
     },
     "execution_count": 110,
     "metadata": {},
     "output_type": "execute_result"
    }
   ],
   "source": [
    "for (ev,evf) in zip(evs0,evsfixed)\n",
    "    plot(sort(abs.(ev),rev=true))\n",
    "    plot(sort(abs.(evf),rev=true),\".\")\n",
    "end\n",
    "xscale(\"log\")\n",
    "yscale(\"log\")\n",
    "ylim(1e-6)"
   ]
  },
  {
   "cell_type": "code",
   "execution_count": 111,
   "metadata": {},
   "outputs": [
    {
     "data": {
      "image/png": "[encoded data removed]",
      "text/plain": [
       "Figure(PyObject <Figure size 640x480 with 1 Axes>)"
      ]
     },
     "metadata": {},
     "output_type": "display_data"
    }
   ],
   "source": [
    "fig,axs = subplots(1,1)\n",
    "pals = sns.color_palette(\"Reds\",length(evs0))\n",
    "for n in 1:1\n",
    "    ax=axs\n",
    "    for (n,ev) in enumerate(evs_list[n][1:end])\n",
    "        ev = filter(x->abs(x)>1e-13,ev)\n",
    "        ax.hist(diff(ev),lw=1.5,bins=129,density=\"true\",histtype=\"step\",color=pals[n],label=n)\n",
    "    end\n",
    "    ax.legend()\n",
    "    ax.set_xlim(0,0.25)\n",
    "    # ax.set_title(names[n])\n",
    "end"
   ]
  },
  {
   "cell_type": "code",
   "execution_count": 112,
   "metadata": {},
   "outputs": [
    {
     "name": "stderr",
     "output_type": "stream",
     "text": [
      "No artists with labels found to put in legend.  Note that artists whose label start with an underscore are ignored when legend() is called with no argument.\n"
     ]
    },
    {
     "data": {
      "image/png": "[encoded data removed]",
      "text/plain": [
       "Figure(PyObject <Figure size 640x480 with 1 Axes>)"
      ]
     },
     "metadata": {},
     "output_type": "display_data"
    },
    {
     "data": {
      "text/plain": [
       "PyObject <matplotlib.legend.Legend object at 0x2a21b4e20>"
      ]
     },
     "execution_count": 112,
     "metadata": {},
     "output_type": "execute_result"
    }
   ],
   "source": [
    "for n in 1:1\n",
    "    plot(1:length(evs0),map(r_statistic,evsfixed),\"-o\",mew=1,mec=\"k\",color=pal[n]) #,label=names[n])\n",
    "end\n",
    "axhline(0.5295,ls=\"--\",color=\"gray\",zorder=-1)\n",
    "axhline(2*log(2) − 1,ls=\"--\",color=\"gray\",zorder=-1)\n",
    "xlabel(\"Level\")\n",
    "ylabel(\"R-Statistic\")\n",
    "legend(frameon=false)\n"
   ]
  },
  {
   "cell_type": "code",
   "execution_count": 136,
   "metadata": {},
   "outputs": [],
   "source": [
    "es = evs0[end];"
   ]
  },
  {
   "cell_type": "code",
   "execution_count": 160,
   "metadata": {},
   "outputs": [],
   "source": [
    "# v0 = vec(O0,pb);\n",
    "ra = partitions(pb)[end]\n",
    "Lmat = G[ra,ra];\n",
    "v0 = rand(ComplexF64,length(ra));\n",
    "v0 += conj(v0);\n",
    "# v0 = zeros(ComplexF64,length(ra))\n",
    "# v0[1] = 1.0"
   ]
  },
  {
   "cell_type": "code",
   "execution_count": 161,
   "metadata": {},
   "outputs": [],
   "source": [
    "N=129\n",
    "iterator = LanczosIterator(Lmat,v0,ClassicalGramSchmidt2());\n",
    "n=0\n",
    "F = initialize(iterator)\n",
    "while n < N\n",
    "    expand!(iterator, F)\n",
    "    n+=1\n",
    "end\n",
    "bs = F.βs;"
   ]
  },
  {
   "cell_type": "code",
   "execution_count": 162,
   "metadata": {},
   "outputs": [],
   "source": [
    "M = rayleighquotient(F);\n",
    "D,Z = eigen(M);"
   ]
  },
  {
   "cell_type": "code",
   "execution_count": 163,
   "metadata": {},
   "outputs": [
    {
     "data": {
      "image/png": "[encoded data removed]",
      "text/plain": [
       "Figure(PyObject <Figure size 640x480 with 1 Axes>)"
      ]
     },
     "metadata": {},
     "output_type": "display_data"
    },
    {
     "data": {
      "text/plain": [
       "1-element Vector{PyObject}:\n",
       " PyObject <matplotlib.lines.Line2D object at 0x2baf1be50>"
      ]
     },
     "execution_count": 163,
     "metadata": {},
     "output_type": "execute_result"
    }
   ],
   "source": [
    "plot(F.βs,\"-o\",mec=\"k\",mew=1)"
   ]
  },
  {
   "cell_type": "code",
   "execution_count": 168,
   "metadata": {},
   "outputs": [
    {
     "data": {
      "image/png": "[encoded data removed]",
      "text/plain": [
       "Figure(PyObject <Figure size 640x480 with 1 Axes>)"
      ]
     },
     "metadata": {},
     "output_type": "display_data"
    },
    {
     "data": {
      "text/plain": [
       "([0.015575520295428547, 0.00042665528136077134, 0.003718010357014532, 0.010901059350113202, 0.020616466596557748, 0.021282302403564705, 0.020318800700070493, 0.010852736468058746, 0.0259602242584882, 0.03949141657192667  …  0.03949141657192697, 0.025960224258488512, 0.010852736468059393, 0.020318800700070794, 0.021282302403565066, 0.02061646659655688, 0.010901059350113046, 0.0037180103570145446, 0.0004266552813607874, 0.015575520295428929], [-16.960410097243503, -15.93250645498632, -14.90460281272914, -13.876699170471959, -12.848795528214776, -11.820891885957593, -10.792988243700412, -9.765084601443231, -8.737180959186048, -7.7092773169288655  …  7.709277316928862, 8.737180959186045, 9.765084601443228, 10.792988243700407, 11.82089188595759, 12.848795528214772, 13.876699170471952, 14.904602812729134, 15.932506454986317, 16.960410097243496], PyObject[PyObject <matplotlib.patches.Polygon object at 0x2ab9ac9a0>])"
      ]
     },
     "execution_count": 168,
     "metadata": {},
     "output_type": "execute_result"
    }
   ],
   "source": [
    "hist(es,lw=1.5,histtype=\"step\",density=true, bins=129)\n",
    "hist(D,weights=abs2.(Z[1,:]),lw=1.5,histtype=\"step\",density=false, bins=33)\n",
    "# [axvline(e) for e in eigvals(M)]\n",
    "# for n in axes(M,1)\n",
    "#     plot([D[n],D[n]],[0,pi*abs2.(Z[1,n])],color=\"k\")\n",
    "# end"
   ]
  },
  {
   "cell_type": "code",
   "execution_count": 170,
   "metadata": {},
   "outputs": [
    {
     "name": "stderr",
     "output_type": "stream",
     "text": [
      "\u001b[32m\u001b[1m    Updating\u001b[22m\u001b[39m registry at `~/.julia/registries/General.toml`\n",
      "\u001b[32m\u001b[1m   Resolving\u001b[22m\u001b[39m package versions...\n",
      "\u001b[32m\u001b[1m   Installed\u001b[22m\u001b[39m Polyester ──────────────────────── v0.6.18\n",
      "\u001b[32m\u001b[1m   Installed\u001b[22m\u001b[39m TriangularSolve ────────────────── v0.1.15\n",
      "\u001b[32m\u001b[1m   Installed\u001b[22m\u001b[39m SLEEFPirates ───────────────────── v0.6.37\n",
      "\u001b[32m\u001b[1m   Installed\u001b[22m\u001b[39m Static ─────────────────────────── v0.8.2\n",
      "\u001b[32m\u001b[1m   Installed\u001b[22m\u001b[39m RecursiveArrayTools ────────────── v2.32.2\n",
      "\u001b[32m\u001b[1m   Installed\u001b[22m\u001b[39m FiniteDiff ─────────────────────── v2.17.0\n",
      "\u001b[32m\u001b[1m   Installed\u001b[22m\u001b[39m DiffEqBase ─────────────────────── v6.108.0\n",
      "\u001b[32m\u001b[1m   Installed\u001b[22m\u001b[39m SciMLBase ──────────────────────── v1.73.1\n",
      "\u001b[32m\u001b[1m   Installed\u001b[22m\u001b[39m SimpleNonlinearSolve ───────────── v0.1.0\n",
      "\u001b[32m\u001b[1m   Installed\u001b[22m\u001b[39m NLSolversBase ──────────────────── v7.8.3\n",
      "\u001b[32m\u001b[1m   Installed\u001b[22m\u001b[39m LayoutPointers ─────────────────── v0.1.12\n",
      "\u001b[32m\u001b[1m   Installed\u001b[22m\u001b[39m LinearSolve ────────────────────── v1.29.0\n",
      "\u001b[32m\u001b[1m   Installed\u001b[22m\u001b[39m BitTwiddlingConvenienceFunctions ─ v0.1.5\n",
      "\u001b[32m\u001b[1m   Installed\u001b[22m\u001b[39m PolyesterWeave ─────────────────── v0.1.11\n",
      "\u001b[32m\u001b[1m   Installed\u001b[22m\u001b[39m LogExpFunctions ────────────────── v0.3.19\n",
      "\u001b[32m\u001b[1m   Installed\u001b[22m\u001b[39m LoopVectorization ──────────────── v0.12.141\n",
      "\u001b[32m\u001b[1m   Installed\u001b[22m\u001b[39m ArrayInterface ─────────────────── v6.0.24\n",
      "\u001b[32m\u001b[1m   Installed\u001b[22m\u001b[39m ArrayInterfaceStaticArrays ─────── v0.1.5\n",
      "\u001b[32m\u001b[1m   Installed\u001b[22m\u001b[39m CloseOpenIntervals ─────────────── v0.1.11\n",
      "\u001b[32m\u001b[1m   Installed\u001b[22m\u001b[39m StrideArraysCore ───────────────── v0.3.17\n",
      "\u001b[32m\u001b[1m   Installed\u001b[22m\u001b[39m CPUSummary ─────────────────────── v0.1.30\n",
      "\u001b[32m\u001b[1m   Installed\u001b[22m\u001b[39m HostCPUFeatures ────────────────── v0.1.13\n",
      "\u001b[32m\u001b[1m   Installed\u001b[22m\u001b[39m VectorizationBase ──────────────── v0.21.56\n",
      "\u001b[32m\u001b[1m   Installed\u001b[22m\u001b[39m FastBroadcast ──────────────────── v0.2.3\n",
      "\u001b[32m\u001b[1m   Installed\u001b[22m\u001b[39m Distributions ──────────────────── v0.25.79\n",
      "\u001b[32m\u001b[1m   Installed\u001b[22m\u001b[39m Optim ──────────────────────────── v1.7.4\n",
      "\u001b[32m\u001b[1m    Updating\u001b[22m\u001b[39m `~/Documents/OperatorGrowth/Project.toml`\n",
      " \u001b[90m [0c46a032] \u001b[39m\u001b[92m+ DifferentialEquations v7.6.0\u001b[39m\n",
      "\u001b[32m\u001b[1m    Updating\u001b[22m\u001b[39m `~/Documents/OperatorGrowth/Manifest.toml`\n",
      " \u001b[90m [ec485272] \u001b[39m\u001b[92m+ ArnoldiMethod v0.2.0\u001b[39m\n",
      " \u001b[90m [4fba245c] \u001b[39m\u001b[92m+ ArrayInterface v6.0.24\u001b[39m\n",
      " \u001b[90m [30b0a656] \u001b[39m\u001b[92m+ ArrayInterfaceCore v0.1.26\u001b[39m\n",
      " \u001b[90m [6ba088a2] \u001b[39m\u001b[92m+ ArrayInterfaceGPUArrays v0.2.2\u001b[39m\n",
      " \u001b[90m [015c0d05] \u001b[39m\u001b[92m+ ArrayInterfaceOffsetArrays v0.1.7\u001b[39m\n",
      " \u001b[90m [b0d46f97] \u001b[39m\u001b[92m+ ArrayInterfaceStaticArrays v0.1.5\u001b[39m\n",
      " \u001b[90m [dd5226c6] \u001b[39m\u001b[92m+ ArrayInterfaceStaticArraysCore v0.1.3\u001b[39m\n",
      " \u001b[90m [4c555306] \u001b[39m\u001b[92m+ ArrayLayouts v0.8.14\u001b[39m\n",
      " \u001b[90m [aae01518] \u001b[39m\u001b[92m+ BandedMatrices v0.17.8\u001b[39m\n",
      " \u001b[90m [62783981] \u001b[39m\u001b[92m+ BitTwiddlingConvenienceFunctions v0.1.5\u001b[39m\n",
      " \u001b[90m [764a87c0] \u001b[39m\u001b[92m+ BoundaryValueDiffEq v2.10.0\u001b[39m\n",
      " \u001b[90m [fa961155] \u001b[39m\u001b[92m+ CEnum v0.4.2\u001b[39m\n",
      " \u001b[90m [2a0fbf3d] \u001b[39m\u001b[92m+ CPUSummary v0.1.30\u001b[39m\n",
      " \u001b[90m [49dc2e85] \u001b[39m\u001b[92m+ Calculus v0.5.1\u001b[39m\n",
      " \u001b[90m [9e997f8a] \u001b[39m\u001b[92m+ ChangesOfVariables v0.1.4\u001b[39m\n",
      " \u001b[90m [fb6a15b2] \u001b[39m\u001b[92m+ CloseOpenIntervals v0.1.11\u001b[39m\n",
      " \u001b[90m [38540f10] \u001b[39m\u001b[92m+ CommonSolve v0.2.3\u001b[39m\n",
      " \u001b[90m [bbf7d656] \u001b[39m\u001b[92m+ CommonSubexpressions v0.3.0\u001b[39m\n",
      " \u001b[90m [187b0558] \u001b[39m\u001b[92m+ ConstructionBase v1.4.1\u001b[39m\n",
      " \u001b[90m [adafc99b] \u001b[39m\u001b[92m+ CpuId v0.3.1\u001b[39m\n",
      " \u001b[90m [9a962f9c] \u001b[39m\u001b[92m+ DataAPI v1.13.0\u001b[39m\n",
      " \u001b[90m [864edb3b] \u001b[39m\u001b[92m+ DataStructures v0.18.13\u001b[39m\n",
      " \u001b[90m [e2d170a0] \u001b[39m\u001b[92m+ DataValueInterfaces v1.0.0\u001b[39m\n",
      " \u001b[90m [bcd4f6db] \u001b[39m\u001b[92m+ DelayDiffEq v5.39.1\u001b[39m\n",
      " \u001b[90m [b429d917] \u001b[39m\u001b[92m+ DensityInterface v0.4.0\u001b[39m\n",
      " \u001b[90m [2b5f629d] \u001b[39m\u001b[92m+ DiffEqBase v6.108.0\u001b[39m\n",
      " \u001b[90m [459566f4] \u001b[39m\u001b[92m+ DiffEqCallbacks v2.24.3\u001b[39m\n",
      " \u001b[90m [77a26b50] \u001b[39m\u001b[92m+ DiffEqNoiseProcess v5.14.2\u001b[39m\n",
      " \u001b[90m [163ba53b] \u001b[39m\u001b[92m+ DiffResults v1.1.0\u001b[39m\n",
      " \u001b[90m [b552c78f] \u001b[39m\u001b[92m+ DiffRules v1.12.2\u001b[39m\n",
      " \u001b[90m [0c46a032] \u001b[39m\u001b[92m+ DifferentialEquations v7.6.0\u001b[39m\n",
      " \u001b[90m [b4f34e82] \u001b[39m\u001b[92m+ Distances v0.10.7\u001b[39m\n",
      " \u001b[90m [31c24e10] \u001b[39m\u001b[92m+ Distributions v0.25.79\u001b[39m\n",
      " \u001b[90m [ffbed154] \u001b[39m\u001b[92m+ DocStringExtensions v0.9.2\u001b[39m\n",
      " \u001b[90m [fa6b7ba4] \u001b[39m\u001b[92m+ DualNumbers v0.6.8\u001b[39m\n",
      " \u001b[90m [4e289a0a] \u001b[39m\u001b[92m+ EnumX v1.0.3\u001b[39m\n",
      " \u001b[90m [d4d017d3] \u001b[39m\u001b[92m+ ExponentialUtilities v1.22.0\u001b[39m\n",
      " \u001b[90m [e2ba6199] \u001b[39m\u001b[92m+ ExprTools v0.1.8\u001b[39m\n",
      " \u001b[90m [7034ab61] \u001b[39m\u001b[92m+ FastBroadcast v0.2.3\u001b[39m\n",
      " \u001b[90m [9aa1b823] \u001b[39m\u001b[92m+ FastClosures v0.3.2\u001b[39m\n",
      " \u001b[90m [29a986be] \u001b[39m\u001b[92m+ FastLapackInterface v1.2.7\u001b[39m\n",
      " \u001b[90m [1a297f60] \u001b[39m\u001b[92m+ FillArrays v0.13.5\u001b[39m\n",
      " \u001b[90m [6a86dc24] \u001b[39m\u001b[92m+ FiniteDiff v2.17.0\u001b[39m\n",
      " \u001b[90m [f6369f11] \u001b[39m\u001b[92m+ ForwardDiff v0.10.33\u001b[39m\n",
      " \u001b[90m [069b7b12] \u001b[39m\u001b[92m+ FunctionWrappers v1.1.3\u001b[39m\n",
      " \u001b[90m [77dc65aa] \u001b[39m\u001b[92m+ FunctionWrappersWrappers v0.1.1\u001b[39m\n",
      " \u001b[90m [c145ed77] \u001b[39m\u001b[92m+ GenericSchur v0.5.3\u001b[39m\n",
      " \u001b[90m [86223c79] \u001b[39m\u001b[92m+ Graphs v1.7.4\u001b[39m\n",
      " \u001b[90m [3e5b6fbb] \u001b[39m\u001b[92m+ HostCPUFeatures v0.1.13\u001b[39m\n",
      " \u001b[90m [34004b35] \u001b[39m\u001b[92m+ HypergeometricFunctions v0.3.11\u001b[39m\n",
      " \u001b[90m [615f187c] \u001b[39m\u001b[92m+ IfElse v0.1.1\u001b[39m\n",
      " \u001b[90m [d25df0c9] \u001b[39m\u001b[92m+ Inflate v0.1.3\u001b[39m\n",
      " \u001b[90m [3587e190] \u001b[39m\u001b[92m+ InverseFunctions v0.1.8\u001b[39m\n",
      " \u001b[90m [92d709cd] \u001b[39m\u001b[92m+ IrrationalConstants v0.1.1\u001b[39m\n",
      " \u001b[90m [42fd0dbc] \u001b[39m\u001b[92m+ IterativeSolvers v0.9.2\u001b[39m\n",
      " \u001b[90m [82899510] \u001b[39m\u001b[92m+ IteratorInterfaceExtensions v1.0.0\u001b[39m\n",
      " \u001b[90m [692b3bcd] \u001b[39m\u001b[92m+ JLLWrappers v1.4.1\u001b[39m\n",
      " \u001b[90m [ccbc3e58] \u001b[39m\u001b[92m+ JumpProcesses v9.2.2\u001b[39m\n",
      " \u001b[90m [ef3ab10e] \u001b[39m\u001b[92m+ KLU v0.4.0\u001b[39m\n",
      " \u001b[90m [ba0b0d4f] \u001b[39m\u001b[92m+ Krylov v0.8.4\u001b[39m\n",
      " \u001b[90m [10f19ff3] \u001b[39m\u001b[92m+ LayoutPointers v0.1.12\u001b[39m\n",
      " \u001b[90m [2d8b4e74] \u001b[39m\u001b[92m+ LevyArea v1.0.0\u001b[39m\n",
      " \u001b[90m [d3d80556] \u001b[39m\u001b[92m+ LineSearches v7.2.0\u001b[39m\n",
      " \u001b[90m [7ed4a6bd] \u001b[39m\u001b[92m+ LinearSolve v1.29.0\u001b[39m\n",
      " \u001b[90m [2ab3a3ac] \u001b[39m\u001b[92m+ LogExpFunctions v0.3.19\u001b[39m\n",
      " \u001b[90m [bdcacae8] \u001b[39m\u001b[92m+ LoopVectorization v0.12.141\u001b[39m\n",
      " \u001b[90m [1914dd2f] \u001b[39m\u001b[92m+ MacroTools v0.5.10\u001b[39m\n",
      " \u001b[90m [d125e4d3] \u001b[39m\u001b[92m+ ManualMemory v0.1.8\u001b[39m\n",
      " \u001b[90m [e1d29d7a] \u001b[39m\u001b[92m+ Missings v1.0.2\u001b[39m\n",
      " \u001b[90m [46d2c3a1] \u001b[39m\u001b[92m+ MuladdMacro v0.2.4\u001b[39m\n",
      " \u001b[90m [d41bc354] \u001b[39m\u001b[92m+ NLSolversBase v7.8.3\u001b[39m\n",
      " \u001b[90m [2774e3e8] \u001b[39m\u001b[92m+ NLsolve v4.5.1\u001b[39m\n",
      " \u001b[90m [77ba4419] \u001b[39m\u001b[92m+ NaNMath v1.0.1\u001b[39m\n",
      " \u001b[90m [8913a72c] \u001b[39m\u001b[92m+ NonlinearSolve v0.3.22\u001b[39m\n",
      " \u001b[90m [6fe1bfb0] \u001b[39m\u001b[92m+ OffsetArrays v1.12.8\u001b[39m\n",
      " \u001b[90m [429524aa] \u001b[39m\u001b[92m+ Optim v1.7.4\u001b[39m\n",
      " \u001b[90m [bac558e1] \u001b[39m\u001b[92m+ OrderedCollections v1.4.1\u001b[39m\n",
      " \u001b[90m [1dea7af3] \u001b[39m\u001b[92m+ OrdinaryDiffEq v6.31.2\u001b[39m\n",
      " \u001b[90m [90014a1f] \u001b[39m\u001b[92m+ PDMats v0.11.16\u001b[39m\n",
      " \u001b[90m [d96e819e] \u001b[39m\u001b[92m+ Parameters v0.12.3\u001b[39m\n",
      " \u001b[90m [e409e4f3] \u001b[39m\u001b[92m+ PoissonRandom v0.4.3\u001b[39m\n",
      " \u001b[90m [f517fe37] \u001b[39m\u001b[92m+ Polyester v0.6.18\u001b[39m\n",
      " \u001b[90m [1d0040c9] \u001b[39m\u001b[92m+ PolyesterWeave v0.1.11\u001b[39m\n",
      " \u001b[90m [85a6dd25] \u001b[39m\u001b[92m+ PositiveFactorizations v0.2.4\u001b[39m\n",
      " \u001b[90m [d236fae5] \u001b[39m\u001b[92m+ PreallocationTools v0.4.4\u001b[39m\n",
      " \u001b[90m [21216c6a] \u001b[39m\u001b[92m+ Preferences v1.3.0\u001b[39m\n",
      " \u001b[90m [1fd47b50] \u001b[39m\u001b[92m+ QuadGK v2.6.0\u001b[39m\n",
      " \u001b[90m [74087812] \u001b[39m\u001b[92m+ Random123 v1.6.0\u001b[39m\n",
      " \u001b[90m [e6cf234a] \u001b[39m\u001b[92m+ RandomNumbers v1.5.3\u001b[39m\n",
      " \u001b[90m [3cdcf5f2] \u001b[39m\u001b[92m+ RecipesBase v1.3.1\u001b[39m\n",
      " \u001b[90m [731186ca] \u001b[39m\u001b[92m+ RecursiveArrayTools v2.32.2\u001b[39m\n",
      " \u001b[90m [f2c3362d] \u001b[39m\u001b[92m+ RecursiveFactorization v0.2.12\u001b[39m\n",
      " \u001b[90m [189a3867] \u001b[39m\u001b[92m+ Reexport v1.2.2\u001b[39m\n",
      " \u001b[90m [ae029012] \u001b[39m\u001b[92m+ Requires v1.3.0\u001b[39m\n",
      " \u001b[90m [ae5879a3] \u001b[39m\u001b[92m+ ResettableStacks v1.1.1\u001b[39m\n",
      " \u001b[90m [79098fc4] \u001b[39m\u001b[92m+ Rmath v0.7.0\u001b[39m\n",
      " \u001b[90m [7e49a35a] \u001b[39m\u001b[92m+ RuntimeGeneratedFunctions v0.5.5\u001b[39m\n",
      " \u001b[90m [3cdde19b] \u001b[39m\u001b[92m+ SIMDDualNumbers v0.1.1\u001b[39m\n",
      " \u001b[90m [94e857df] \u001b[39m\u001b[92m+ SIMDTypes v0.1.0\u001b[39m\n",
      " \u001b[90m [476501e8] \u001b[39m\u001b[92m+ SLEEFPirates v0.6.37\u001b[39m\n",
      " \u001b[90m [0bca4576] \u001b[39m\u001b[92m+ SciMLBase v1.73.1\u001b[39m\n",
      " \u001b[90m [efcf1570] \u001b[39m\u001b[92m+ Setfield v1.1.1\u001b[39m\n",
      " \u001b[90m [727e6d20] \u001b[39m\u001b[92m+ SimpleNonlinearSolve v0.1.0\u001b[39m\n",
      " \u001b[90m [699a6c99] \u001b[39m\u001b[92m+ SimpleTraits v0.9.4\u001b[39m\n",
      " \u001b[90m [66db9d55] \u001b[39m\u001b[92m+ SnoopPrecompile v1.0.1\u001b[39m\n",
      " \u001b[90m [a2af1166] \u001b[39m\u001b[92m+ SortingAlgorithms v1.1.0\u001b[39m\n",
      " \u001b[90m [47a9eef4] \u001b[39m\u001b[92m+ SparseDiffTools v1.29.0\u001b[39m\n",
      " \u001b[90m [276daf66] \u001b[39m\u001b[92m+ SpecialFunctions v2.1.7\u001b[39m\n",
      " \u001b[90m [aedffcd0] \u001b[39m\u001b[92m+ Static v0.8.2\u001b[39m\n",
      " \u001b[90m [90137ffa] \u001b[39m\u001b[92m+ StaticArrays v1.5.10\u001b[39m\n",
      " \u001b[90m [1e83bf80] \u001b[39m\u001b[92m+ StaticArraysCore v1.4.0\u001b[39m\n",
      " \u001b[90m [82ae8749] \u001b[39m\u001b[92m+ StatsAPI v1.5.0\u001b[39m\n",
      " \u001b[90m [2913bbd2] \u001b[39m\u001b[92m+ StatsBase v0.33.21\u001b[39m\n",
      " \u001b[90m [4c63d2b9] \u001b[39m\u001b[92m+ StatsFuns v1.0.1\u001b[39m\n",
      " \u001b[90m [9672c7b4] \u001b[39m\u001b[92m+ SteadyStateDiffEq v1.9.0\u001b[39m\n",
      " \u001b[90m [789caeaf] \u001b[39m\u001b[92m+ StochasticDiffEq v6.56.0\u001b[39m\n",
      "\u001b[33m⌅\u001b[39m\u001b[90m [7792a7ef] \u001b[39m\u001b[92m+ StrideArraysCore v0.3.17\u001b[39m\n",
      " \u001b[90m [c3572dad] \u001b[39m\u001b[92m+ Sundials v4.10.3\u001b[39m\n",
      " \u001b[90m [3783bdb8] \u001b[39m\u001b[92m+ TableTraits v1.0.1\u001b[39m\n",
      " \u001b[90m [bd369af6] \u001b[39m\u001b[92m+ Tables v1.10.0\u001b[39m\n",
      " \u001b[90m [8290d209] \u001b[39m\u001b[92m+ ThreadingUtilities v0.5.0\u001b[39m\n",
      " \u001b[90m [a2a6695c] \u001b[39m\u001b[92m+ TreeViews v0.3.0\u001b[39m\n",
      " \u001b[90m [d5829a12] \u001b[39m\u001b[92m+ TriangularSolve v0.1.15\u001b[39m\n",
      " \u001b[90m [410a4b4d] \u001b[39m\u001b[92m+ Tricks v0.1.6\u001b[39m\n",
      " \u001b[90m [3a884ed6] \u001b[39m\u001b[92m+ UnPack v1.0.2\u001b[39m\n",
      " \u001b[90m [3d5dd08c] \u001b[39m\u001b[92m+ VectorizationBase v0.21.56\u001b[39m\n",
      " \u001b[90m [19fa3120] \u001b[39m\u001b[92m+ VertexSafeGraphs v0.2.0\u001b[39m\n",
      " \u001b[90m [700de1a5] \u001b[39m\u001b[92m+ ZygoteRules v0.2.2\u001b[39m\n",
      " \u001b[90m [efe28fd5] \u001b[39m\u001b[92m+ OpenSpecFun_jll v0.5.5+0\u001b[39m\n",
      " \u001b[90m [f50d1b31] \u001b[39m\u001b[92m+ Rmath_jll v0.3.0+0\u001b[39m\n",
      " \u001b[90m [fb77eaff] \u001b[39m\u001b[92m+ Sundials_jll v5.2.1+0\u001b[39m\n",
      " \u001b[90m [0dad84c5] \u001b[39m\u001b[92m+ ArgTools v1.1.1\u001b[39m\n",
      " \u001b[90m [8ba89e20] \u001b[39m\u001b[92m+ Distributed\u001b[39m\n",
      " \u001b[90m [f43a241f] \u001b[39m\u001b[92m+ Downloads v1.6.0\u001b[39m\n",
      " \u001b[90m [7b1f6079] \u001b[39m\u001b[92m+ FileWatching\u001b[39m\n",
      " \u001b[90m [9fa8497b] \u001b[39m\u001b[92m+ Future\u001b[39m\n",
      " \u001b[90m [b27032c2] \u001b[39m\u001b[92m+ LibCURL v0.6.3\u001b[39m\n",
      " \u001b[90m [76f85450] \u001b[39m\u001b[92m+ LibGit2\u001b[39m\n",
      " \u001b[90m [a63ad114] \u001b[39m\u001b[92m+ Mmap\u001b[39m\n",
      " \u001b[90m [ca575930] \u001b[39m\u001b[92m+ NetworkOptions v1.2.0\u001b[39m\n",
      " \u001b[90m [44cfe95a] \u001b[39m\u001b[92m+ Pkg v1.8.0\u001b[39m\n",
      " \u001b[90m [3fa0cd96] \u001b[39m\u001b[92m+ REPL\u001b[39m\n",
      " \u001b[90m [1a1011a3] \u001b[39m\u001b[92m+ SharedArrays\u001b[39m\n",
      " \u001b[90m [6462fe0b] \u001b[39m\u001b[92m+ Sockets\u001b[39m\n",
      " \u001b[90m [4607b0f0] \u001b[39m\u001b[92m+ SuiteSparse\u001b[39m\n",
      " \u001b[90m [fa267f1f] \u001b[39m\u001b[92m+ TOML v1.0.0\u001b[39m\n",
      " \u001b[90m [a4e569a6] \u001b[39m\u001b[92m+ Tar v1.10.1\u001b[39m\n",
      " \u001b[90m [deac9b47] \u001b[39m\u001b[92m+ LibCURL_jll v7.84.0+0\u001b[39m\n",
      " \u001b[90m [29816b5a] \u001b[39m\u001b[92m+ LibSSH2_jll v1.10.2+0\u001b[39m\n",
      " \u001b[90m [c8ffd9c3] \u001b[39m\u001b[92m+ MbedTLS_jll v2.28.0+0\u001b[39m\n",
      " \u001b[90m [14a3606d] \u001b[39m\u001b[92m+ MozillaCACerts_jll v2022.2.1\u001b[39m\n",
      " \u001b[90m [05823500] \u001b[39m\u001b[92m+ OpenLibm_jll v0.8.1+0\u001b[39m\n",
      " \u001b[90m [bea87d4a] \u001b[39m\u001b[92m+ SuiteSparse_jll v5.10.1+0\u001b[39m\n",
      " \u001b[90m [83775a58] \u001b[39m\u001b[92m+ Zlib_jll v1.2.12+3\u001b[39m\n",
      " \u001b[90m [8e850ede] \u001b[39m\u001b[92m+ nghttp2_jll v1.48.0+0\u001b[39m\n",
      " \u001b[90m [3f19e933] \u001b[39m\u001b[92m+ p7zip_jll v17.4.0+0\u001b[39m\n",
      "\u001b[36m\u001b[1m        Info\u001b[22m\u001b[39m Packages marked with \u001b[33m⌅\u001b[39m have new versions available but compatibility constraints restrict them from upgrading. To see why use `status --outdated -m`\n",
      "\u001b[32m\u001b[1mPrecompiling\u001b[22m\u001b[39m project...\n",
      "\u001b[32m  ✓ \u001b[39m\u001b[90mStatic\u001b[39m\n",
      "\u001b[32m  ✓ \u001b[39m\u001b[90mBitTwiddlingConvenienceFunctions\u001b[39m\n",
      "\u001b[32m  ✓ \u001b[39m\u001b[90mCPUSummary\u001b[39m\n",
      "\u001b[32m  ✓ \u001b[39m\u001b[90mFiniteDiff\u001b[39m\n",
      "\u001b[32m  ✓ \u001b[39m\u001b[90mArrayInterface\u001b[39m\n",
      "\u001b[32m  ✓ \u001b[39m\u001b[90mPolyesterWeave\u001b[39m\n",
      "\u001b[32m  ✓ \u001b[39m\u001b[90mHostCPUFeatures\u001b[39m\n",
      "\u001b[32m  ✓ \u001b[39m\u001b[90mLogExpFunctions\u001b[39m\n",
      "\u001b[32m  ✓ \u001b[39m\u001b[90mCloseOpenIntervals\u001b[39m\n",
      "\u001b[32m  ✓ \u001b[39m\u001b[90mArrayInterfaceOffsetArrays\u001b[39m\n",
      "\u001b[32m  ✓ \u001b[39m\u001b[90mRecursiveArrayTools\u001b[39m\n",
      "\u001b[32m  ✓ \u001b[39m\u001b[90mArrayInterfaceStaticArrays\u001b[39m\n",
      "\u001b[32m  ✓ \u001b[39m\u001b[90mLayoutPointers\u001b[39m\n",
      "\u001b[32m  ✓ \u001b[39m\u001b[90mSpecialFunctions\u001b[39m\n",
      "\u001b[32m  ✓ \u001b[39m\u001b[90mDiffRules\u001b[39m\n",
      "\u001b[32m  ✓ \u001b[39m\u001b[90mLevyArea\u001b[39m\n",
      "\u001b[32m  ✓ \u001b[39m\u001b[90mDualNumbers\u001b[39m\n",
      "\u001b[32m  ✓ \u001b[39m\u001b[90mStrideArraysCore\u001b[39m\n",
      "\u001b[32m  ✓ \u001b[39m\u001b[90mStatsBase\u001b[39m\n",
      "\u001b[32m  ✓ \u001b[39m\u001b[90mHypergeometricFunctions\u001b[39m\n",
      "\u001b[32m  ✓ \u001b[39m\u001b[90mSciMLBase\u001b[39m\n",
      "\u001b[32m  ✓ \u001b[39m\u001b[90mPolyester\u001b[39m\n",
      "\u001b[32m  ✓ \u001b[39m\u001b[90mStatsFuns\u001b[39m\n",
      "\u001b[32m  ✓ \u001b[39m\u001b[90mForwardDiff\u001b[39m\n",
      "\u001b[32m  ✓ \u001b[39m\u001b[90mFastBroadcast\u001b[39m\n",
      "\u001b[32m  ✓ \u001b[39m\u001b[90mPreallocationTools\u001b[39m\n",
      "\u001b[32m  ✓ \u001b[39m\u001b[90mNLSolversBase\u001b[39m\n",
      "\u001b[32m  ✓ \u001b[39m\u001b[90mSimpleNonlinearSolve\u001b[39m\n",
      "\u001b[32m  ✓ \u001b[39m\u001b[90mLineSearches\u001b[39m\n",
      "\u001b[32m  ✓ \u001b[39m\u001b[90mDistributions\u001b[39m\n",
      "\u001b[32m  ✓ \u001b[39m\u001b[90mNLsolve\u001b[39m\n",
      "\u001b[32m  ✓ \u001b[39m\u001b[90mVectorizationBase\u001b[39m\n",
      "\u001b[32m  ✓ \u001b[39m\u001b[90mOptim\u001b[39m\n",
      "\u001b[32m  ✓ \u001b[39m\u001b[90mSparseDiffTools\u001b[39m\n",
      "\u001b[32m  ✓ \u001b[39m\u001b[90mSLEEFPirates\u001b[39m\n",
      "\u001b[32m  ✓ \u001b[39m\u001b[90mSIMDDualNumbers\u001b[39m\n",
      "\u001b[32m  ✓ \u001b[39m\u001b[90mDiffEqBase\u001b[39m\n",
      "\u001b[32m  ✓ \u001b[39m\u001b[90mDiffEqCallbacks\u001b[39m\n",
      "\u001b[32m  ✓ \u001b[39m\u001b[90mJumpProcesses\u001b[39m\n",
      "\u001b[32m  ✓ \u001b[39m\u001b[90mDiffEqNoiseProcess\u001b[39m\n",
      "\u001b[32m  ✓ \u001b[39m\u001b[90mBoundaryValueDiffEq\u001b[39m\n",
      "\u001b[32m  ✓ \u001b[39m\u001b[90mSteadyStateDiffEq\u001b[39m\n",
      "\u001b[32m  ✓ \u001b[39m\u001b[90mSundials\u001b[39m\n",
      "\u001b[32m  ✓ \u001b[39m\u001b[90mLoopVectorization\u001b[39m\n",
      "\u001b[32m  ✓ \u001b[39m\u001b[90mTriangularSolve\u001b[39m\n",
      "\u001b[32m  ✓ \u001b[39m\u001b[90mRecursiveFactorization\u001b[39m\n",
      "\u001b[32m  ✓ \u001b[39m\u001b[90mNonlinearSolve\u001b[39m\n",
      "\u001b[32m  ✓ \u001b[39m\u001b[90mLinearSolve\u001b[39m\n",
      "\u001b[32m  ✓ \u001b[39m\u001b[90mOrdinaryDiffEq\u001b[39m\n",
      "\u001b[32m  ✓ \u001b[39m\u001b[90mDelayDiffEq\u001b[39m\n",
      "\u001b[32m  ✓ \u001b[39m\u001b[90mStochasticDiffEq\u001b[39m\n",
      "\u001b[32m  ✓ \u001b[39mDifferentialEquations\n",
      "\u001b[33m  ✓ \u001b[39mOperatorGrowth\n",
      "  53 dependencies successfully precompiled in 142 seconds. 92 already precompiled.\n",
      "  \u001b[33m1\u001b[39m dependency precompiled but a different version is currently loaded. Restart julia to access the new version\n"
     ]
    }
   ],
   "source": [
    "import Pkg; Pkg.add(\"DifferentialEquations\")\n",
    "using DifferentialEquations"
   ]
  },
  {
   "cell_type": "code",
   "execution_count": null,
   "metadata": {},
   "outputs": [],
   "source": []
  }
 ],
 "metadata": {
  "kernelspec": {
   "display_name": "Julia 1.8.3",
   "language": "julia",
   "name": "julia-1.8"
  },
  "language_info": {
   "file_extension": ".jl",
   "mimetype": "application/julia",
   "name": "julia",
   "version": "1.8.3"
  },
  "orig_nbformat": 4
 },
 "nbformat": 4,
 "nbformat_minor": 2
}
